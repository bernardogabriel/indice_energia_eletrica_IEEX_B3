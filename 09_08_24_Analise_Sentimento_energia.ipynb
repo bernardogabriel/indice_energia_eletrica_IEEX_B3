{
 "cells": [
  {
   "cell_type": "markdown",
   "id": "7788d774",
   "metadata": {},
   "source": [
    "### Raspagem de noticias  das 16 empresas\n",
    "\n",
    "1. A empresa AUREN \n",
    "2. A empresa CEMIG \n",
    "3. A empresa TRAN PAULIST \n",
    "4. A empresa ELETROBRAS \n",
    "5. A empresa COPEL \n",
    "6. A empresa COELCE \n",
    "7. A empresa CPFL ENERGIA \n",
    "8. A empresa TAESA \n",
    "9. A empresa ALUPAR \n",
    "10. A empresa NEOENERGIA \n",
    "11. A empresa ENEVA \n",
    "12. A empresa SERENA \n",
    "13. A empresa ENGIE BRASIL\n",
    "14. A empresa EQUATORIAL\n",
    "15. A empresa ENERGISA \n",
    "16. A empresa AES BRASIL \n",
    "\n",
    "\n",
    "Aqui está uma abordagem para realizar essa tarefa:\n",
    "\n",
    "1 Pesquisar notícias no Google Notícias: Usaremos uma query de pesquisa para cada empresa, coletando as notícias relevantes.\n",
    "\n",
    "2 Raspar os dados de cada notícia: Extrairemos o nome do veículo de imprensa, título, subtítulo (se disponível), data de \n",
    "publicação (se disponível) e conteúdo textual.\n",
    "\n",
    "3 Salvar os dados em um CSV: Organizaremos essas informações em um arquivo CSV para análise posterior.\n",
    "\n",
    "Obs: pode ser usado a https://newsapi.org/"
   ]
  },
  {
   "cell_type": "markdown",
   "id": "df6d722b",
   "metadata": {},
   "source": [
    "### Ler as primeiras 5 linhas do CSV"
   ]
  },
  {
   "cell_type": "code",
   "execution_count": 48,
   "id": "0cc804bc",
   "metadata": {},
   "outputs": [],
   "source": [
    "!pip install -q selenium\n",
    "!pip install -q scrapy\n",
    "import requests\n",
    "from bs4 import BeautifulSoup\n",
    "import csv\n"
   ]
  },
  {
   "cell_type": "code",
   "execution_count": 25,
   "id": "8758ee46",
   "metadata": {},
   "outputs": [],
   "source": [
    "# Lista de empresas de energia brasileira\n",
    "empresas = [\n",
    "    \"AUREN\", \"CEMIG\", \"TRAN PAULIST\", \"ELETROBRAS\", \"COPEL\", \"COELCE\", \n",
    "    \"CPFL ENERGIA\", \"TAESA\", \"ALUPAR\", \"NEOENERGIA\", \"ENEVA\", \n",
    "    \"SERENA\", \"ENGIE BRASIL\", \"EQUATORIAL\", \"ENERGISA\", \"AES BRASIL\"\n",
    "]\n"
   ]
  },
  {
   "cell_type": "markdown",
   "id": "9d0d0d9b",
   "metadata": {},
   "source": [
    "### USANDO Google News empresa AUREN"
   ]
  },
  {
   "cell_type": "code",
   "execution_count": 2,
   "id": "acfa7550",
   "metadata": {},
   "outputs": [],
   "source": [
    "!pip install -q GoogleNews"
   ]
  },
  {
   "cell_type": "code",
   "execution_count": 4,
   "id": "0444af2e",
   "metadata": {},
   "outputs": [
    {
     "name": "stdout",
     "output_type": "stream",
     "text": [
      "Dados salvos em AUREN_noticias_2024.csv\n"
     ]
    }
   ],
   "source": [
    "from GoogleNews import GoogleNews\n",
    "import pandas as pd\n",
    "\n",
    "def coletar_noticias(empresa):\n",
    "    googlenews = GoogleNews(lang='pt', region='BR', period='12m')  # Define o período de 12 meses (último ano)\n",
    "    googlenews.search(empresa)\n",
    "\n",
    "    dados = []\n",
    "\n",
    "    # Coleta resultados da primeira página\n",
    "    noticias = googlenews.results(sort=True)\n",
    "    for noticia in noticias:\n",
    "        titulo = noticia['title']\n",
    "        conteudo = noticia['desc']\n",
    "        link = noticia['link']\n",
    "        dados.append([titulo, conteudo, link])\n",
    "\n",
    "    # Pagina através dos resultados\n",
    "    for i in range(2, 6):  # Tente ajustar o número de páginas aqui se precisar de mais resultados\n",
    "        googlenews.get_page(i)\n",
    "        noticias = googlenews.results(sort=True)\n",
    "        for noticia in noticias:\n",
    "            titulo = noticia['title']\n",
    "            conteudo = noticia['desc']\n",
    "            link = noticia['link']\n",
    "            dados.append([titulo, conteudo, link])\n",
    "\n",
    "    # Salva os dados em um CSV\n",
    "    filename = f\"{empresa}_noticias_2024.csv\"\n",
    "    df = pd.DataFrame(dados, columns=['Titulo', 'Conteudo', 'Link'])\n",
    "    df.to_csv(filename, index=False, encoding='utf-8')\n",
    "\n",
    "    print(f\"Dados salvos em {filename}\")\n",
    "\n",
    "# Executa a função para a empresa AUREN\n",
    "coletar_noticias('AUREN')\n",
    "\n",
    "\n"
   ]
  },
  {
   "cell_type": "markdown",
   "id": "be4f3f9e",
   "metadata": {},
   "source": [
    "### As primeira 5 linhas de AUREN"
   ]
  },
  {
   "cell_type": "code",
   "execution_count": 12,
   "id": "00715348",
   "metadata": {},
   "outputs": [
    {
     "data": {
      "text/html": [
       "<div>\n",
       "<style scoped>\n",
       "    .dataframe tbody tr th:only-of-type {\n",
       "        vertical-align: middle;\n",
       "    }\n",
       "\n",
       "    .dataframe tbody tr th {\n",
       "        vertical-align: top;\n",
       "    }\n",
       "\n",
       "    .dataframe thead th {\n",
       "        text-align: right;\n",
       "    }\n",
       "</style>\n",
       "<table border=\"1\" class=\"dataframe\">\n",
       "  <thead>\n",
       "    <tr style=\"text-align: right;\">\n",
       "      <th></th>\n",
       "      <th>Titulo</th>\n",
       "      <th>Conteudo</th>\n",
       "      <th>Link</th>\n",
       "    </tr>\n",
       "  </thead>\n",
       "  <tbody>\n",
       "    <tr>\n",
       "      <th>0</th>\n",
       "      <td>Parques Eólicos Ventos do Araripe III (PE) e V...</td>\n",
       "      <td>Com uma geração de energia 100% originada em f...</td>\n",
       "      <td>https://ricardobanana.com.br/parques-eolicos-v...</td>\n",
       "    </tr>\n",
       "    <tr>\n",
       "      <th>1</th>\n",
       "      <td>Conselhos da Auren (AURE3) e AES (AESB3) aprov...</td>\n",
       "      <td>O acordo define termos e condições da combinaç...</td>\n",
       "      <td>https://einvestidor.estadao.com.br/ultimas/aes...</td>\n",
       "    </tr>\n",
       "    <tr>\n",
       "      <th>2</th>\n",
       "      <td>AES Brasil (AESB3) e Auren (AURE3) assinam pro...</td>\n",
       "      <td>AES Brasil e Auren comunicaram a assinatura de...</td>\n",
       "      <td>https://www.spacemoney.com.br/investimentos/ac...</td>\n",
       "    </tr>\n",
       "    <tr>\n",
       "      <th>3</th>\n",
       "      <td>Auren e AES Brasil assinam protocolo para fusã...</td>\n",
       "      <td>Os termos do acordo envolvem a incorporação de...</td>\n",
       "      <td>https://valor.globo.com/empresas/noticia/2024/...</td>\n",
       "    </tr>\n",
       "    <tr>\n",
       "      <th>4</th>\n",
       "      <td>A ação de energia elétrica que ‘toda carteira ...</td>\n",
       "      <td>As empresas de energia elétrica começaram a di...</td>\n",
       "      <td>https://www.moneytimes.com.br/conteudo-de-marc...</td>\n",
       "    </tr>\n",
       "  </tbody>\n",
       "</table>\n",
       "</div>"
      ],
      "text/plain": [
       "                                              Titulo  \\\n",
       "0  Parques Eólicos Ventos do Araripe III (PE) e V...   \n",
       "1  Conselhos da Auren (AURE3) e AES (AESB3) aprov...   \n",
       "2  AES Brasil (AESB3) e Auren (AURE3) assinam pro...   \n",
       "3  Auren e AES Brasil assinam protocolo para fusã...   \n",
       "4  A ação de energia elétrica que ‘toda carteira ...   \n",
       "\n",
       "                                            Conteudo  \\\n",
       "0  Com uma geração de energia 100% originada em f...   \n",
       "1  O acordo define termos e condições da combinaç...   \n",
       "2  AES Brasil e Auren comunicaram a assinatura de...   \n",
       "3  Os termos do acordo envolvem a incorporação de...   \n",
       "4  As empresas de energia elétrica começaram a di...   \n",
       "\n",
       "                                                Link  \n",
       "0  https://ricardobanana.com.br/parques-eolicos-v...  \n",
       "1  https://einvestidor.estadao.com.br/ultimas/aes...  \n",
       "2  https://www.spacemoney.com.br/investimentos/ac...  \n",
       "3  https://valor.globo.com/empresas/noticia/2024/...  \n",
       "4  https://www.moneytimes.com.br/conteudo-de-marc...  "
      ]
     },
     "metadata": {},
     "output_type": "display_data"
    }
   ],
   "source": [
    "import pandas as pd\n",
    "\n",
    "# Carrega o CSV para um DataFrame\n",
    "df = pd.read_csv('AUREN_noticias_2024.csv')\n",
    "\n",
    "# Exibe as primeiras 5 linhas em formato de tabela\n",
    "display(df.head())\n"
   ]
  },
  {
   "cell_type": "code",
   "execution_count": 16,
   "id": "770e4239",
   "metadata": {},
   "outputs": [
    {
     "data": {
      "text/html": [
       "<div>\n",
       "<style scoped>\n",
       "    .dataframe tbody tr th:only-of-type {\n",
       "        vertical-align: middle;\n",
       "    }\n",
       "\n",
       "    .dataframe tbody tr th {\n",
       "        vertical-align: top;\n",
       "    }\n",
       "\n",
       "    .dataframe thead th {\n",
       "        text-align: right;\n",
       "    }\n",
       "</style>\n",
       "<table border=\"1\" class=\"dataframe\">\n",
       "  <thead>\n",
       "    <tr style=\"text-align: right;\">\n",
       "      <th></th>\n",
       "      <th>Titulo</th>\n",
       "      <th>Conteudo</th>\n",
       "      <th>Link</th>\n",
       "      <th>Provedor</th>\n",
       "    </tr>\n",
       "  </thead>\n",
       "  <tbody>\n",
       "    <tr>\n",
       "      <th>0</th>\n",
       "      <td>Parques Eólicos Ventos do Araripe III (PE) e V...</td>\n",
       "      <td>Com uma geração de energia 100% originada em f...</td>\n",
       "      <td>https://ricardobanana.com.br/parques-eolicos-v...</td>\n",
       "      <td>ricardobanana.com.br</td>\n",
       "    </tr>\n",
       "    <tr>\n",
       "      <th>1</th>\n",
       "      <td>Conselhos da Auren (AURE3) e AES (AESB3) aprov...</td>\n",
       "      <td>O acordo define termos e condições da combinaç...</td>\n",
       "      <td>https://einvestidor.estadao.com.br/ultimas/aes...</td>\n",
       "      <td>einvestidor.estadao.com.br</td>\n",
       "    </tr>\n",
       "    <tr>\n",
       "      <th>2</th>\n",
       "      <td>AES Brasil (AESB3) e Auren (AURE3) assinam pro...</td>\n",
       "      <td>AES Brasil e Auren comunicaram a assinatura de...</td>\n",
       "      <td>https://www.spacemoney.com.br/investimentos/ac...</td>\n",
       "      <td>www.spacemoney.com.br</td>\n",
       "    </tr>\n",
       "    <tr>\n",
       "      <th>3</th>\n",
       "      <td>Auren e AES Brasil assinam protocolo para fusã...</td>\n",
       "      <td>Os termos do acordo envolvem a incorporação de...</td>\n",
       "      <td>https://valor.globo.com/empresas/noticia/2024/...</td>\n",
       "      <td>valor.globo.com</td>\n",
       "    </tr>\n",
       "    <tr>\n",
       "      <th>4</th>\n",
       "      <td>A ação de energia elétrica que ‘toda carteira ...</td>\n",
       "      <td>As empresas de energia elétrica começaram a di...</td>\n",
       "      <td>https://www.moneytimes.com.br/conteudo-de-marc...</td>\n",
       "      <td>www.moneytimes.com.br</td>\n",
       "    </tr>\n",
       "  </tbody>\n",
       "</table>\n",
       "</div>"
      ],
      "text/plain": [
       "                                              Titulo  \\\n",
       "0  Parques Eólicos Ventos do Araripe III (PE) e V...   \n",
       "1  Conselhos da Auren (AURE3) e AES (AESB3) aprov...   \n",
       "2  AES Brasil (AESB3) e Auren (AURE3) assinam pro...   \n",
       "3  Auren e AES Brasil assinam protocolo para fusã...   \n",
       "4  A ação de energia elétrica que ‘toda carteira ...   \n",
       "\n",
       "                                            Conteudo  \\\n",
       "0  Com uma geração de energia 100% originada em f...   \n",
       "1  O acordo define termos e condições da combinaç...   \n",
       "2  AES Brasil e Auren comunicaram a assinatura de...   \n",
       "3  Os termos do acordo envolvem a incorporação de...   \n",
       "4  As empresas de energia elétrica começaram a di...   \n",
       "\n",
       "                                                Link  \\\n",
       "0  https://ricardobanana.com.br/parques-eolicos-v...   \n",
       "1  https://einvestidor.estadao.com.br/ultimas/aes...   \n",
       "2  https://www.spacemoney.com.br/investimentos/ac...   \n",
       "3  https://valor.globo.com/empresas/noticia/2024/...   \n",
       "4  https://www.moneytimes.com.br/conteudo-de-marc...   \n",
       "\n",
       "                     Provedor  \n",
       "0        ricardobanana.com.br  \n",
       "1  einvestidor.estadao.com.br  \n",
       "2       www.spacemoney.com.br  \n",
       "3             valor.globo.com  \n",
       "4       www.moneytimes.com.br  "
      ]
     },
     "metadata": {},
     "output_type": "display_data"
    }
   ],
   "source": [
    "from urllib.parse import urlparse\n",
    "\n",
    "# Carrega o CSV para um DataFrame\n",
    "df = pd.read_csv('AUREN_noticias_2024.csv')\n",
    "\n",
    "# Extrai o domínio dos links e adiciona como uma nova coluna \"Provedor\"\n",
    "df['Provedor'] = df['Link'].apply(lambda link: urlparse(link).netloc)\n",
    "\n",
    "# Salva o DataFrame atualizado no mesmo arquivo CSV\n",
    "df.to_csv('AUREN_noticias_2024.csv', index=False, encoding='utf-8')\n",
    "\n",
    "# Exibe as primeiras 5 linhas em formato de tabela\n",
    "display(df.head())\n"
   ]
  },
  {
   "cell_type": "code",
   "execution_count": 17,
   "id": "3d92f0ef",
   "metadata": {},
   "outputs": [
    {
     "name": "stdout",
     "output_type": "stream",
     "text": [
      "Provedor\n",
      "valor.globo.com                  21\n",
      "einvestidor.estadao.com.br       17\n",
      "www.moneytimes.com.br            15\n",
      "www.spacemoney.com.br            14\n",
      "www.infomoney.com.br             13\n",
      "financenews.com.br               10\n",
      "www.canalenergia.com.br           9\n",
      "investidor10.com.br               7\n",
      "inteligenciafinanceira.com.br     6\n",
      "ricardobanana.com.br              5\n",
      "www.msn.com                       5\n",
      "bmcnews.com.br                    5\n",
      "www.seudinheiro.com               5\n",
      "valorinveste.globo.com            4\n",
      "investalk.bb.com.br               4\n",
      "www.folhape.com.br                3\n",
      "exame.com                         3\n",
      "executivedigest.sapo.pt           2\n",
      "fusoesaquisicoes.com              1\n",
      "www.bbc.com                       1\n",
      "Name: count, dtype: int64\n"
     ]
    }
   ],
   "source": [
    "# Conta quantas notícias saíram em cada provedor\n",
    "contagem_provedores = df['Provedor'].value_counts()\n",
    "\n",
    "# Exibe a contagem\n",
    "print(contagem_provedores)\n"
   ]
  },
  {
   "cell_type": "markdown",
   "id": "34911d77",
   "metadata": {},
   "source": [
    "### Retirar estas dois sites:\n",
    "ricardobanana.com.br              5\n",
    "executivedigest.sapo.pt           2\n",
    "www.msn.com                       5"
   ]
  },
  {
   "cell_type": "code",
   "execution_count": null,
   "id": "17c8d2d6",
   "metadata": {},
   "outputs": [],
   "source": []
  }
 ],
 "metadata": {
  "kernelspec": {
   "display_name": "Python 3 (ipykernel)",
   "language": "python",
   "name": "python3"
  },
  "language_info": {
   "codemirror_mode": {
    "name": "ipython",
    "version": 3
   },
   "file_extension": ".py",
   "mimetype": "text/x-python",
   "name": "python",
   "nbconvert_exporter": "python",
   "pygments_lexer": "ipython3",
   "version": "3.9.13"
  }
 },
 "nbformat": 4,
 "nbformat_minor": 5
}
